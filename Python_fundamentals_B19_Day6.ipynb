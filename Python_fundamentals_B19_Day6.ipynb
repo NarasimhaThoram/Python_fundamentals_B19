{
 "cells": [
  {
   "cell_type": "code",
   "execution_count": null,
   "metadata": {},
   "outputs": [],
   "source": [
    "UNDERSTANDING LOOPING STATEMENTS:\n",
    "\n",
    "for loop Introduction:"
   ]
  },
  {
   "cell_type": "code",
   "execution_count": 8,
   "metadata": {},
   "outputs": [],
   "source": [
    "students = ['Pavan','Keerthi','Jyothi','Lakshmi','Debanysh','Kumar','Narasimha','balachander','nagaraju']"
   ]
  },
  {
   "cell_type": "code",
   "execution_count": 9,
   "metadata": {},
   "outputs": [
    {
     "name": "stdout",
     "output_type": "stream",
     "text": [
      "['Pavan', 'Keerthi', 'Jyothi', 'Lakshmi', 'Debanysh', 'Kumar', 'Narasimha', 'balachander', 'nagaraju']\n"
     ]
    }
   ],
   "source": [
    "print(students)"
   ]
  },
  {
   "cell_type": "code",
   "execution_count": null,
   "metadata": {},
   "outputs": [],
   "source": [
    "Req: I want to appreciate each every student for completing their work on time.\n",
    "by using the concept of fstring."
   ]
  },
  {
   "cell_type": "code",
   "execution_count": 13,
   "metadata": {},
   "outputs": [
    {
     "name": "stdout",
     "output_type": "stream",
     "text": [
      "keep up the good work, Pavan\n"
     ]
    }
   ],
   "source": [
    "print(f'keep up the good work, {students[0]}')"
   ]
  },
  {
   "cell_type": "code",
   "execution_count": null,
   "metadata": {},
   "outputs": [],
   "source": [
    "General Syntax for Loop\n",
    "\n",
    "for tempvar in mainvar:\n",
    "    print(tempvar)\n",
    "    \n",
    "In the above line the gap on the left side is a general rule in python and is called Indentation."
   ]
  },
  {
   "cell_type": "code",
   "execution_count": 14,
   "metadata": {},
   "outputs": [
    {
     "name": "stdout",
     "output_type": "stream",
     "text": [
      "Pavan\n",
      "Keerthi\n",
      "Jyothi\n",
      "Lakshmi\n",
      "Debanysh\n",
      "Kumar\n",
      "Narasimha\n",
      "balachander\n",
      "nagaraju\n"
     ]
    }
   ],
   "source": [
    "for student in students:\n",
    "    print(student)"
   ]
  },
  {
   "cell_type": "code",
   "execution_count": 17,
   "metadata": {},
   "outputs": [
    {
     "name": "stdout",
     "output_type": "stream",
     "text": [
      "keep up the good work,Pavan\n",
      "keep up the good work,Keerthi\n",
      "keep up the good work,Jyothi\n",
      "keep up the good work,Lakshmi\n",
      "keep up the good work,Debanysh\n",
      "keep up the good work,Kumar\n",
      "keep up the good work,Narasimha\n",
      "keep up the good work,balachander\n",
      "keep up the good work,nagaraju\n"
     ]
    }
   ],
   "source": [
    "for student in students:\n",
    "    print(f'keep up the good work,{student}')"
   ]
  },
  {
   "cell_type": "code",
   "execution_count": 18,
   "metadata": {},
   "outputs": [
    {
     "name": "stdout",
     "output_type": "stream",
     "text": [
      "keep up the good work,Pavan\n",
      "I am expecting all your Github URLs,Pavan\n",
      "keep up the good work,Keerthi\n",
      "I am expecting all your Github URLs,Keerthi\n",
      "keep up the good work,Jyothi\n",
      "I am expecting all your Github URLs,Jyothi\n",
      "keep up the good work,Lakshmi\n",
      "I am expecting all your Github URLs,Lakshmi\n",
      "keep up the good work,Debanysh\n",
      "I am expecting all your Github URLs,Debanysh\n",
      "keep up the good work,Kumar\n",
      "I am expecting all your Github URLs,Kumar\n",
      "keep up the good work,Narasimha\n",
      "I am expecting all your Github URLs,Narasimha\n",
      "keep up the good work,balachander\n",
      "I am expecting all your Github URLs,balachander\n",
      "keep up the good work,nagaraju\n",
      "I am expecting all your Github URLs,nagaraju\n"
     ]
    }
   ],
   "source": [
    "for student in students:\n",
    "    print(f'keep up the good work,{student}')\n",
    "    print(f'I am expecting all your Github URLs,{student}')"
   ]
  },
  {
   "cell_type": "code",
   "execution_count": 19,
   "metadata": {},
   "outputs": [
    {
     "name": "stdout",
     "output_type": "stream",
     "text": [
      "keep up the good work,Pavan\n",
      "I am expecting all your Github URLs,Pavan.\n",
      "\n",
      "keep up the good work,Keerthi\n",
      "I am expecting all your Github URLs,Keerthi.\n",
      "\n",
      "keep up the good work,Jyothi\n",
      "I am expecting all your Github URLs,Jyothi.\n",
      "\n",
      "keep up the good work,Lakshmi\n",
      "I am expecting all your Github URLs,Lakshmi.\n",
      "\n",
      "keep up the good work,Debanysh\n",
      "I am expecting all your Github URLs,Debanysh.\n",
      "\n",
      "keep up the good work,Kumar\n",
      "I am expecting all your Github URLs,Kumar.\n",
      "\n",
      "keep up the good work,Narasimha\n",
      "I am expecting all your Github URLs,Narasimha.\n",
      "\n",
      "keep up the good work,balachander\n",
      "I am expecting all your Github URLs,balachander.\n",
      "\n",
      "keep up the good work,nagaraju\n",
      "I am expecting all your Github URLs,nagaraju.\n",
      "\n"
     ]
    }
   ],
   "source": [
    "for student in students:\n",
    "    print(f'keep up the good work,{student}')\n",
    "    print(f'I am expecting all your Github URLs,{student}.\\n')\n",
    "    \n",
    "    #.\\n is for new line as shown below."
   ]
  },
  {
   "cell_type": "code",
   "execution_count": null,
   "metadata": {},
   "outputs": [],
   "source": []
  }
 ],
 "metadata": {
  "kernelspec": {
   "display_name": "Python 3",
   "language": "python",
   "name": "python3"
  },
  "language_info": {
   "codemirror_mode": {
    "name": "ipython",
    "version": 3
   },
   "file_extension": ".py",
   "mimetype": "text/x-python",
   "name": "python",
   "nbconvert_exporter": "python",
   "pygments_lexer": "ipython3",
   "version": "3.7.6"
  }
 },
 "nbformat": 4,
 "nbformat_minor": 4
}
