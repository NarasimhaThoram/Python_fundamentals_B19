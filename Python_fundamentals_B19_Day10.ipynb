{
 "cells": [
  {
   "cell_type": "code",
   "execution_count": null,
   "metadata": {},
   "outputs": [],
   "source": [
    "Looping through Dictionaries"
   ]
  },
  {
   "cell_type": "code",
   "execution_count": 4,
   "metadata": {},
   "outputs": [],
   "source": [
    "user_account = {'f_name':'narasimha', 'l_name':'thoram','user_id':'nt','dob':'01-01-1990','pswd':'12345'}"
   ]
  },
  {
   "cell_type": "code",
   "execution_count": 5,
   "metadata": {},
   "outputs": [
    {
     "name": "stdout",
     "output_type": "stream",
     "text": [
      "{'f_name': 'narasimha', 'l_name': 'thoram', 'user_id': 'nt', 'dob': '01-01-1990', 'pswd': '12345'}\n"
     ]
    }
   ],
   "source": [
    "print(user_account)"
   ]
  },
  {
   "cell_type": "code",
   "execution_count": null,
   "metadata": {},
   "outputs": [],
   "source": [
    "General Syntax of a for loop\n",
    "for tempvar in mainvar:\n",
    "    print(tempvar)\n",
    "    \n",
    "General Syntax of a for loop in Dictionaries\n",
    "\n",
    "for key,value in mainvar.items():\n",
    "    print(key)\n",
    "    print(value)\n",
    "    \n",
    "for key in mainvar.key():\n",
    "    print(key)\n",
    "\n",
    "for value in mainvar.value():\n",
    "    print(value)"
   ]
  },
  {
   "cell_type": "code",
   "execution_count": null,
   "metadata": {},
   "outputs": [],
   "source": [
    "Need Key and Value"
   ]
  },
  {
   "cell_type": "code",
   "execution_count": 6,
   "metadata": {},
   "outputs": [
    {
     "name": "stdout",
     "output_type": "stream",
     "text": [
      "f_name\n",
      "narasimha\n",
      "l_name\n",
      "thoram\n",
      "user_id\n",
      "nt\n",
      "dob\n",
      "01-01-1990\n",
      "pswd\n",
      "12345\n"
     ]
    }
   ],
   "source": [
    "for k,v in user_account.items():\n",
    "    print(k)\n",
    "    print(v)"
   ]
  },
  {
   "cell_type": "code",
   "execution_count": null,
   "metadata": {},
   "outputs": [],
   "source": [
    "Only need Key in the pair"
   ]
  },
  {
   "cell_type": "code",
   "execution_count": 9,
   "metadata": {},
   "outputs": [
    {
     "name": "stdout",
     "output_type": "stream",
     "text": [
      "f_name\n",
      "l_name\n",
      "user_id\n",
      "dob\n",
      "pswd\n"
     ]
    }
   ],
   "source": [
    "for x in user_account.keys():\n",
    "    print(x)"
   ]
  },
  {
   "cell_type": "code",
   "execution_count": null,
   "metadata": {},
   "outputs": [],
   "source": [
    "Only need value in the pair"
   ]
  },
  {
   "cell_type": "code",
   "execution_count": 10,
   "metadata": {},
   "outputs": [
    {
     "name": "stdout",
     "output_type": "stream",
     "text": [
      "narasimha\n",
      "thoram\n",
      "nt\n",
      "01-01-1990\n",
      "12345\n"
     ]
    }
   ],
   "source": [
    "for y in user_account.values():\n",
    "    print(y)"
   ]
  },
  {
   "cell_type": "code",
   "execution_count": null,
   "metadata": {},
   "outputs": [],
   "source": []
  },
  {
   "cell_type": "code",
   "execution_count": null,
   "metadata": {},
   "outputs": [],
   "source": []
  }
 ],
 "metadata": {
  "kernelspec": {
   "display_name": "Python 3",
   "language": "python",
   "name": "python3"
  },
  "language_info": {
   "codemirror_mode": {
    "name": "ipython",
    "version": 3
   },
   "file_extension": ".py",
   "mimetype": "text/x-python",
   "name": "python",
   "nbconvert_exporter": "python",
   "pygments_lexer": "ipython3",
   "version": "3.7.6"
  }
 },
 "nbformat": 4,
 "nbformat_minor": 4
}
