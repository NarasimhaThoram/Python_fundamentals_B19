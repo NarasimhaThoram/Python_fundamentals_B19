{
 "cells": [
  {
   "cell_type": "code",
   "execution_count": null,
   "metadata": {},
   "outputs": [],
   "source": [
    "INTRODUCTION TO LIST DATA TYPE\n",
    "A list is a collection of items in a particular order.\n",
    "Classification of list: List is a mutable data type. ie which can be altered, modified or reassigned once it gets declared.\n",
    "How is list defined: list is defined in square brackets."
   ]
  },
  {
   "cell_type": "code",
   "execution_count": 18,
   "metadata": {},
   "outputs": [],
   "source": [
    "students = ['swetha','vinod','nagaraju','debyansh','ravi','suteja','akshara','namisha','nalini']"
   ]
  },
  {
   "cell_type": "code",
   "execution_count": 19,
   "metadata": {},
   "outputs": [
    {
     "name": "stdout",
     "output_type": "stream",
     "text": [
      "['swetha', 'vinod', 'nagaraju', 'debyansh', 'ravi', 'suteja', 'akshara', 'namisha', 'nalini']\n"
     ]
    }
   ],
   "source": [
    "print(students)"
   ]
  },
  {
   "cell_type": "code",
   "execution_count": null,
   "metadata": {},
   "outputs": [],
   "source": [
    "Introduction of concept of Indexing:\n",
    "Indexing is utilized to track the position of the element in the list\n",
    "Indexing will be starting from 0 1 2 3 -------"
   ]
  },
  {
   "cell_type": "code",
   "execution_count": null,
   "metadata": {},
   "outputs": [],
   "source": [
    "Ex: I want nagaraju from the above example."
   ]
  },
  {
   "cell_type": "code",
   "execution_count": 20,
   "metadata": {},
   "outputs": [
    {
     "name": "stdout",
     "output_type": "stream",
     "text": [
      "nagaraju\n"
     ]
    }
   ],
   "source": [
    "print(students[2])"
   ]
  },
  {
   "cell_type": "code",
   "execution_count": null,
   "metadata": {},
   "outputs": [],
   "source": [
    "How to Reassign Modifyor Alter, Remove the elements form the lists."
   ]
  },
  {
   "cell_type": "code",
   "execution_count": 21,
   "metadata": {},
   "outputs": [],
   "source": [
    "#Reassign: Reassigns the element name to different element name.\n",
    "students[1] = 'Abhinav'"
   ]
  },
  {
   "cell_type": "code",
   "execution_count": 22,
   "metadata": {},
   "outputs": [
    {
     "name": "stdout",
     "output_type": "stream",
     "text": [
      "['swetha', 'Abhinav', 'nagaraju', 'debyansh', 'ravi', 'suteja', 'akshara', 'namisha', 'nalini']\n"
     ]
    }
   ],
   "source": [
    "print(students)"
   ]
  },
  {
   "cell_type": "code",
   "execution_count": 23,
   "metadata": {},
   "outputs": [],
   "source": [
    "#Modify or Alter or Append: Append will add additional elements to the list. New eleemnt is added to the last.\n",
    "students.append('akshara')"
   ]
  },
  {
   "cell_type": "code",
   "execution_count": 24,
   "metadata": {},
   "outputs": [
    {
     "name": "stdout",
     "output_type": "stream",
     "text": [
      "['swetha', 'Abhinav', 'nagaraju', 'debyansh', 'ravi', 'suteja', 'akshara', 'namisha', 'nalini', 'akshara']\n"
     ]
    }
   ],
   "source": [
    "print(students)"
   ]
  },
  {
   "cell_type": "code",
   "execution_count": 25,
   "metadata": {},
   "outputs": [],
   "source": [
    "#Add: Adding the new element to the list. \n",
    "#For Ex: want to add Dinesh to the 4th Index position.\n",
    "students.insert(4,'dinesh')"
   ]
  },
  {
   "cell_type": "code",
   "execution_count": 26,
   "metadata": {},
   "outputs": [
    {
     "name": "stdout",
     "output_type": "stream",
     "text": [
      "['swetha', 'Abhinav', 'nagaraju', 'debyansh', 'dinesh', 'ravi', 'suteja', 'akshara', 'namisha', 'nalini', 'akshara']\n"
     ]
    }
   ],
   "source": [
    "print(students)"
   ]
  },
  {
   "cell_type": "code",
   "execution_count": null,
   "metadata": {},
   "outputs": [],
   "source": [
    "Insert vs Append:\n",
    "Append adds to the last element in the Index, where as Insert can be added to te custom Index."
   ]
  },
  {
   "cell_type": "code",
   "execution_count": 27,
   "metadata": {},
   "outputs": [
    {
     "name": "stdout",
     "output_type": "stream",
     "text": [
      "['swetha', 'Abhinav', 'nagaraju', 'debyansh', 'dinesh', 'ravi', 'suteja', 'akshara', 'namisha', 'nalini']\n"
     ]
    }
   ],
   "source": [
    "#Removing: Removes the last element from the list\n",
    "students.pop()\n",
    "print(students)"
   ]
  },
  {
   "cell_type": "code",
   "execution_count": 28,
   "metadata": {},
   "outputs": [],
   "source": [
    "#If the custom index need to be removed then use del \n",
    "\n",
    "del students[2]"
   ]
  },
  {
   "cell_type": "code",
   "execution_count": 29,
   "metadata": {},
   "outputs": [
    {
     "name": "stdout",
     "output_type": "stream",
     "text": [
      "['swetha', 'Abhinav', 'debyansh', 'dinesh', 'ravi', 'suteja', 'akshara', 'namisha', 'nalini']\n"
     ]
    }
   ],
   "source": [
    "print(students)"
   ]
  },
  {
   "cell_type": "code",
   "execution_count": null,
   "metadata": {},
   "outputs": [],
   "source": []
  }
 ],
 "metadata": {
  "kernelspec": {
   "display_name": "Python 3",
   "language": "python",
   "name": "python3"
  },
  "language_info": {
   "codemirror_mode": {
    "name": "ipython",
    "version": 3
   },
   "file_extension": ".py",
   "mimetype": "text/x-python",
   "name": "python",
   "nbconvert_exporter": "python",
   "pygments_lexer": "ipython3",
   "version": "3.7.6"
  }
 },
 "nbformat": 4,
 "nbformat_minor": 4
}
